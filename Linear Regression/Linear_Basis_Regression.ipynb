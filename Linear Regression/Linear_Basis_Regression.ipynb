{
 "cells": [
  {
   "cell_type": "code",
   "execution_count": 18,
   "metadata": {},
   "outputs": [],
   "source": [
    "%matplotlib inline\n",
    "import numpy as np\n",
    "import pandas as pd\n",
    "import os\n",
    "import matplotlib.pyplot as plt\n"
   ]
  },
  {
   "cell_type": "code",
   "execution_count": 19,
   "metadata": {},
   "outputs": [],
   "source": [
    "data = pd.read_csv('insurance.csv')"
   ]
  },
  {
   "cell_type": "code",
   "execution_count": 20,
   "metadata": {},
   "outputs": [
    {
     "data": {
      "text/html": [
       "<div>\n",
       "<style scoped>\n",
       "    .dataframe tbody tr th:only-of-type {\n",
       "        vertical-align: middle;\n",
       "    }\n",
       "\n",
       "    .dataframe tbody tr th {\n",
       "        vertical-align: top;\n",
       "    }\n",
       "\n",
       "    .dataframe thead th {\n",
       "        text-align: right;\n",
       "    }\n",
       "</style>\n",
       "<table border=\"1\" class=\"dataframe\">\n",
       "  <thead>\n",
       "    <tr style=\"text-align: right;\">\n",
       "      <th></th>\n",
       "      <th>age</th>\n",
       "      <th>sex</th>\n",
       "      <th>bmi</th>\n",
       "      <th>children</th>\n",
       "      <th>smoker</th>\n",
       "      <th>region</th>\n",
       "      <th>charges</th>\n",
       "    </tr>\n",
       "  </thead>\n",
       "  <tbody>\n",
       "    <tr>\n",
       "      <th>0</th>\n",
       "      <td>19</td>\n",
       "      <td>female</td>\n",
       "      <td>27.900</td>\n",
       "      <td>0</td>\n",
       "      <td>yes</td>\n",
       "      <td>southwest</td>\n",
       "      <td>16884.92400</td>\n",
       "    </tr>\n",
       "    <tr>\n",
       "      <th>1</th>\n",
       "      <td>18</td>\n",
       "      <td>male</td>\n",
       "      <td>33.770</td>\n",
       "      <td>1</td>\n",
       "      <td>no</td>\n",
       "      <td>southeast</td>\n",
       "      <td>1725.55230</td>\n",
       "    </tr>\n",
       "    <tr>\n",
       "      <th>2</th>\n",
       "      <td>28</td>\n",
       "      <td>male</td>\n",
       "      <td>33.000</td>\n",
       "      <td>3</td>\n",
       "      <td>no</td>\n",
       "      <td>southeast</td>\n",
       "      <td>4449.46200</td>\n",
       "    </tr>\n",
       "    <tr>\n",
       "      <th>3</th>\n",
       "      <td>33</td>\n",
       "      <td>male</td>\n",
       "      <td>22.705</td>\n",
       "      <td>0</td>\n",
       "      <td>no</td>\n",
       "      <td>northwest</td>\n",
       "      <td>21984.47061</td>\n",
       "    </tr>\n",
       "    <tr>\n",
       "      <th>4</th>\n",
       "      <td>32</td>\n",
       "      <td>male</td>\n",
       "      <td>28.880</td>\n",
       "      <td>0</td>\n",
       "      <td>no</td>\n",
       "      <td>northwest</td>\n",
       "      <td>3866.85520</td>\n",
       "    </tr>\n",
       "  </tbody>\n",
       "</table>\n",
       "</div>"
      ],
      "text/plain": [
       "   age     sex     bmi  children smoker     region      charges\n",
       "0   19  female  27.900         0    yes  southwest  16884.92400\n",
       "1   18    male  33.770         1     no  southeast   1725.55230\n",
       "2   28    male  33.000         3     no  southeast   4449.46200\n",
       "3   33    male  22.705         0     no  northwest  21984.47061\n",
       "4   32    male  28.880         0     no  northwest   3866.85520"
      ]
     },
     "execution_count": 20,
     "metadata": {},
     "output_type": "execute_result"
    }
   ],
   "source": [
    "data.head()\n"
   ]
  },
  {
   "cell_type": "code",
   "execution_count": 21,
   "metadata": {},
   "outputs": [],
   "source": [
    "from sklearn.preprocessing import LabelEncoder\n",
    "\n",
    "label = LabelEncoder()\n",
    "label.fit(data.sex)\n",
    "data.sex = label.transform(data.sex)\n",
    "label.fit(data.smoker)\n",
    "data.smoker = label.transform(data.smoker)\n",
    "label.fit(data.region)\n",
    "data.region = label.transform(data.region)"
   ]
  },
  {
   "cell_type": "code",
   "execution_count": 22,
   "metadata": {},
   "outputs": [
    {
     "data": {
      "text/html": [
       "<div>\n",
       "<style scoped>\n",
       "    .dataframe tbody tr th:only-of-type {\n",
       "        vertical-align: middle;\n",
       "    }\n",
       "\n",
       "    .dataframe tbody tr th {\n",
       "        vertical-align: top;\n",
       "    }\n",
       "\n",
       "    .dataframe thead th {\n",
       "        text-align: right;\n",
       "    }\n",
       "</style>\n",
       "<table border=\"1\" class=\"dataframe\">\n",
       "  <thead>\n",
       "    <tr style=\"text-align: right;\">\n",
       "      <th></th>\n",
       "      <th>age</th>\n",
       "      <th>sex</th>\n",
       "      <th>bmi</th>\n",
       "      <th>children</th>\n",
       "      <th>smoker</th>\n",
       "      <th>region</th>\n",
       "      <th>charges</th>\n",
       "    </tr>\n",
       "  </thead>\n",
       "  <tbody>\n",
       "    <tr>\n",
       "      <th>0</th>\n",
       "      <td>19</td>\n",
       "      <td>0</td>\n",
       "      <td>27.900</td>\n",
       "      <td>0</td>\n",
       "      <td>1</td>\n",
       "      <td>3</td>\n",
       "      <td>16884.92400</td>\n",
       "    </tr>\n",
       "    <tr>\n",
       "      <th>1</th>\n",
       "      <td>18</td>\n",
       "      <td>1</td>\n",
       "      <td>33.770</td>\n",
       "      <td>1</td>\n",
       "      <td>0</td>\n",
       "      <td>2</td>\n",
       "      <td>1725.55230</td>\n",
       "    </tr>\n",
       "    <tr>\n",
       "      <th>2</th>\n",
       "      <td>28</td>\n",
       "      <td>1</td>\n",
       "      <td>33.000</td>\n",
       "      <td>3</td>\n",
       "      <td>0</td>\n",
       "      <td>2</td>\n",
       "      <td>4449.46200</td>\n",
       "    </tr>\n",
       "    <tr>\n",
       "      <th>3</th>\n",
       "      <td>33</td>\n",
       "      <td>1</td>\n",
       "      <td>22.705</td>\n",
       "      <td>0</td>\n",
       "      <td>0</td>\n",
       "      <td>1</td>\n",
       "      <td>21984.47061</td>\n",
       "    </tr>\n",
       "    <tr>\n",
       "      <th>4</th>\n",
       "      <td>32</td>\n",
       "      <td>1</td>\n",
       "      <td>28.880</td>\n",
       "      <td>0</td>\n",
       "      <td>0</td>\n",
       "      <td>1</td>\n",
       "      <td>3866.85520</td>\n",
       "    </tr>\n",
       "  </tbody>\n",
       "</table>\n",
       "</div>"
      ],
      "text/plain": [
       "   age  sex     bmi  children  smoker  region      charges\n",
       "0   19    0  27.900         0       1       3  16884.92400\n",
       "1   18    1  33.770         1       0       2   1725.55230\n",
       "2   28    1  33.000         3       0       2   4449.46200\n",
       "3   33    1  22.705         0       0       1  21984.47061\n",
       "4   32    1  28.880         0       0       1   3866.85520"
      ]
     },
     "execution_count": 22,
     "metadata": {},
     "output_type": "execute_result"
    }
   ],
   "source": [
    "data.head()"
   ]
  },
  {
   "cell_type": "markdown",
   "metadata": {},
   "source": [
    "# Linear Regression"
   ]
  },
  {
   "cell_type": "code",
   "execution_count": 6,
   "metadata": {},
   "outputs": [],
   "source": [
    "from sklearn.linear_model import LinearRegression\n",
    "from sklearn.model_selection import train_test_split\n",
    "from sklearn.metrics import mean_squared_error"
   ]
  },
  {
   "cell_type": "code",
   "execution_count": 7,
   "metadata": {},
   "outputs": [],
   "source": [
    "x = data.drop(['charges', 'region'], axis = 1)\n",
    "y = data.charges"
   ]
  },
  {
   "cell_type": "code",
   "execution_count": 10,
   "metadata": {},
   "outputs": [],
   "source": [
    "x_train, x_test, y_train, y_test = train_test_split(x, y, random_state = 0)\n",
    "lr = LinearRegression().fit(x_train, y_train)\n"
   ]
  },
  {
   "cell_type": "code",
   "execution_count": 12,
   "metadata": {},
   "outputs": [],
   "source": [
    "y_pred_train = lr.predict(x_train)\n",
    "y_pred_test = lr.predict(x_test)\n",
    "train_rmse = mean_squared_error(y_train, y_pred_train)\n",
    "test_rmse = mean_squared_error(y_test, y_pred_test)"
   ]
  },
  {
   "cell_type": "code",
   "execution_count": 13,
   "metadata": {},
   "outputs": [
    {
     "name": "stdout",
     "output_type": "stream",
     "text": [
      "38188846.24553773\n"
     ]
    }
   ],
   "source": [
    "print(train_rmse)\n",
    "\n"
   ]
  },
  {
   "cell_type": "code",
   "execution_count": 14,
   "metadata": {},
   "outputs": [
    {
     "name": "stdout",
     "output_type": "stream",
     "text": [
      "32239880.653186936\n"
     ]
    }
   ],
   "source": [
    "print(test_rmse)"
   ]
  },
  {
   "cell_type": "code",
   "execution_count": 15,
   "metadata": {},
   "outputs": [],
   "source": [
    "y_pred = lr.predict(x)"
   ]
  },
  {
   "cell_type": "code",
   "execution_count": 16,
   "metadata": {},
   "outputs": [],
   "source": [
    "import seaborn as sns"
   ]
  },
  {
   "cell_type": "code",
   "execution_count": 17,
   "metadata": {},
   "outputs": [
    {
     "data": {
      "image/png": "[encoded data removed]",
      "text/plain": [
       "<Figure size 432x288 with 1 Axes>"
      ]
     },
     "metadata": {
      "needs_background": "light"
     },
     "output_type": "display_data"
    }
   ],
   "source": [
    "plt = sns.residplot(y_pred, y, data=data, lowess=True, scatter_kws={'alpha': 0.5}, line_kws = {'color': 'red', 'lw': 1, 'alpha': 0.8})"
   ]
  },
  {
   "cell_type": "markdown",
   "metadata": {},
   "source": [
    "# Polynomial Basis Fucntion"
   ]
  },
  {
   "cell_type": "code",
   "execution_count": 18,
   "metadata": {},
   "outputs": [],
   "source": [
    "from sklearn.preprocessing import PolynomialFeatures"
   ]
  },
  {
   "cell_type": "code",
   "execution_count": 39,
   "metadata": {},
   "outputs": [],
   "source": [
    "def poly_reg(m):\n",
    "    quad = PolynomialFeatures(degree = m)\n",
    "    x_quad = quad.fit_transform(x)\n",
    "\n",
    "    x_train, x_test, y_train, y_test = train_test_split(x_quad, y, random_state = 0)\n",
    "\n",
    "    plr1 = LinearRegression().fit(x_train, y_train)\n",
    "    y_pred_train = plr1.predict(x_train)\n",
    "    y_pred_test = plr1.predict(x_test)\n",
    "    train_rmse = mean_squared_error(y_train, y_pred_train)\n",
    "    test_rmse = mean_squared_error(y_test, y_pred_test)\n",
    "    \n",
    "    train_acc = plr1.score(x_train, y_train)\n",
    "    test_acc = plr1.score(x_test, y_test)\n",
    "    \n",
    "    print(\"For m = \" + str(m) + \" :  training rmse = \" + str(train_acc) + \", test rmse = \" + str(test_acc) \\\n",
    "         + \"train accuracy = \" + str(train_acc) + \" test accuracy = \" + str(test_acc) )\n",
    "    \n",
    "    return train_rmse, test_rmse, train_acc, test_acc\n",
    "    \n",
    "\n",
    "\n"
   ]
  },
  {
   "cell_type": "code",
   "execution_count": 45,
   "metadata": {},
   "outputs": [
    {
     "name": "stdout",
     "output_type": "stream",
     "text": [
      "For m = 1 :  training rmse = 0.732745261917263, test rmse = 0.7952171980481991train accuracy = 0.732745261917263 test accuracy = 0.7952171980481991\n",
      "For m = 2 :  training rmse = 0.827971069017031, test rmse = 0.8849197344147235train accuracy = 0.827971069017031 test accuracy = 0.8849197344147235\n",
      "For m = 3 :  training rmse = 0.8355068796804324, test rmse = 0.881016890674589train accuracy = 0.8355068796804324 test accuracy = 0.881016890674589\n",
      "For m = 4 :  training rmse = 0.844290864337028, test rmse = 0.8795123459678051train accuracy = 0.844290864337028 test accuracy = 0.8795123459678051\n",
      "For m = 5 :  training rmse = 0.8595291324181669, test rmse = 0.857975955067129train accuracy = 0.8595291324181669 test accuracy = 0.857975955067129\n"
     ]
    }
   ],
   "source": [
    "x_coord = []\n",
    "y_coord_train_rmse = []\n",
    "y_coord_test_rmse = []\n",
    "y_coord_train_acc = []\n",
    "y_coord_test_acc = []\n",
    "\n",
    "for i in range(1, 6):\n",
    "    x_coord.append(i)\n",
    "    a, b, c, d = poly_reg(i)\n",
    "    y_coord_train_rmse.append(a)\n",
    "    y_coord_test_rmse.append(b)\n",
    "    y_coord_train_acc.append(c)\n",
    "    y_coord_test_acc.append(d)"
   ]
  },
  {
   "cell_type": "code",
   "execution_count": 46,
   "metadata": {},
   "outputs": [
    {
     "data": {
      "image/png": "[encoded data removed]",
      "text/plain": [
       "<Figure size 432x288 with 1 Axes>"
      ]
     },
     "metadata": {
      "needs_background": "light"
     },
     "output_type": "display_data"
    }
   ],
   "source": [
    "plt.plot(x_coord, y_coord_train_rmse, color='r', label = 'train RMSE')\n",
    "plt.plot(x_coord, y_coord_test_rmse, color='b', label = 'test RMSE')\n",
    "plt.legend(loc='best')\n",
    "plt.xlabel('m order polynomial')\n",
    "plt.ylabel('RMSE')\n",
    "plt.show()"
   ]
  },
  {
   "cell_type": "code",
   "execution_count": 47,
   "metadata": {},
   "outputs": [
    {
     "data": {
      "image/png": "[encoded data removed]",
      "text/plain": [
       "<Figure size 432x288 with 1 Axes>"
      ]
     },
     "metadata": {
      "needs_background": "light"
     },
     "output_type": "display_data"
    }
   ],
   "source": [
    "plt.plot(x_coord, y_coord_train_acc, color='r', label = 'train Acc')\n",
    "plt.plot(x_coord, y_coord_test_acc, color='b', label = 'test Acc')\n",
    "plt.legend(loc='best')\n",
    "plt.xlabel('m order polynomial')\n",
    "plt.ylabel('Accuracy')\n",
    "plt.show()"
   ]
  },
  {
   "cell_type": "code",
   "execution_count": 31,
   "metadata": {},
   "outputs": [
    {
     "data": {
      "text/plain": [
       "(1338, 5)"
      ]
     },
     "execution_count": 31,
     "metadata": {},
     "output_type": "execute_result"
    }
   ],
   "source": [
    "x.shape"
   ]
  },
  {
   "cell_type": "markdown",
   "metadata": {},
   "source": [
    "# Gaussian Basis Functions"
   ]
  },
  {
   "cell_type": "code",
   "execution_count": 153,
   "metadata": {},
   "outputs": [],
   "source": [
    "from sklearn.pipeline import make_pipeline\n",
    "from sklearn.base import BaseEstimator, TransformerMixin\n",
    "\n",
    "class GaussianFeatures(BaseEstimator, TransformerMixin):\n",
    "       \n",
    "    def __init__(self, N, width_factor=2.0):\n",
    "        self.N = N\n",
    "        self.width_factor = width_factor\n",
    "    \n",
    "    @staticmethod\n",
    "    def _gauss_basis(x, y, width, axis=None):\n",
    "        #print(\"inside\")\n",
    "        arg = (x - y) / width\n",
    "        #print(arg)\n",
    "        return np.exp(-0.5 * np.sum(arg ** 2, axis))\n",
    "        \n",
    "    def fit(self, X, y=None):\n",
    "        # create N centers spread along the data range\n",
    "        #print(X)\n",
    "        self.centers_ = np.linspace(X.min(), X.max(), self.N)\n",
    "        print(self.centers_.shape)\n",
    "        self.width_ = self.width_factor * (self.centers_[1] - self.centers_[0])\n",
    "        #print(self.width_.shape)\n",
    "        return self\n",
    "        \n",
    "    def transform(self, X):\n",
    "        \n",
    "        #print(X.shape)\n",
    "        #print(self.centers_.shape)\n",
    "        #print(X.iloc[:, :, :, np.newaxis].shape, X.iloc[:, :, :, np.newaxis].head())\n",
    "        return self._gauss_basis(np.dstack([X]*self.N), self.centers_.reshape((1, 5, self.N)),\n",
    "                                 self.width_.reshape((1, 5, 1)), axis=2)\n",
    "\n",
    "    \n"
   ]
  },
  {
   "cell_type": "code",
   "execution_count": 154,
   "metadata": {},
   "outputs": [],
   "source": [
    "def gauss_function(m):\n",
    "    #gauss = GaussianFeatures(m)\n",
    "    #gauss.fit(x[:, np.newaxis], y)\n",
    "   # x_gauss = gauss.transform(x_gauss)\n",
    "    x_train, x_test, y_train, y_test = train_test_split(x, y, random_state = 0)\n",
    "    #gauss_model = LinearRegression().fit(x_train, y_train)\n",
    "    \n",
    "    gauss_model = make_pipeline(GaussianFeatures(m),\n",
    "                            LinearRegression())\n",
    "    gauss_model.fit(x_train, y_train)\n",
    "    #print(x_train,y_train)\n",
    "    y_pred_test = gauss_model.predict(x_test)\n",
    "    y_pred_train = gauss_model.predict(x_train)\n",
    "    \n",
    "   \n",
    "    #y_pred_train = gauss_model.predict(x_train)\n",
    "    #y_pred_test = gauss_model.predict(x_test)\n",
    "    train_rmse = mean_squared_error(y_train, y_pred_train)\n",
    "    test_rmse = mean_squared_error(y_test, y_pred_test)\n",
    "    \n",
    "    train_acc = gauss_model.score(x_train, y_train)\n",
    "    test_acc = gauss_model.score(x_test, y_test)\n",
    "    \n",
    "    print(\"For m = \" + str(m) + \" :  training rmse = \" + str(train_acc) + \", test rmse = \" + str(test_acc) \\\n",
    "         + \"train accuracy = \" + str(train_acc) + \" test accuracy = \" + str(test_acc) )\n",
    "    \n",
    "    return train_rmse, test_rmse, train_acc, test_acc\n",
    "    \n",
    " \n",
    "   \n",
    "    "
   ]
  },
  {
   "cell_type": "code",
   "execution_count": 160,
   "metadata": {},
   "outputs": [
    {
     "name": "stdout",
     "output_type": "stream",
     "text": [
      "(2, 5)\n",
      "For m = 2 :  training rmse = 0.7094652695763121, test rmse = 0.7776202728363697train accuracy = 0.7094652695763121 test accuracy = 0.7776202728363697\n",
      "(3, 5)\n",
      "For m = 3 :  training rmse = 0.0996657381357734, test rmse = 0.15788940573237265train accuracy = 0.0996657381357734 test accuracy = 0.15788940573237265\n",
      "(4, 5)\n",
      "For m = 4 :  training rmse = 0.0909335248077422, test rmse = 0.1303228922871449train accuracy = 0.0909335248077422 test accuracy = 0.1303228922871449\n",
      "(5, 5)\n",
      "For m = 5 :  training rmse = 0.0747900979778452, test rmse = 0.0972161966556937train accuracy = 0.0747900979778452 test accuracy = 0.0972161966556937\n",
      "(6, 5)\n",
      "For m = 6 :  training rmse = 0.06959108379887724, test rmse = 0.08519973990125586train accuracy = 0.06959108379887724 test accuracy = 0.08519973990125586\n"
     ]
    }
   ],
   "source": [
    "## Need to debug this\n",
    "x_coord = []\n",
    "y_coord_train_rmse = []\n",
    "y_coord_test_rmse = []\n",
    "y_coord_train_acc = []\n",
    "y_coord_test_acc = []\n",
    "\n",
    "for i in range(2, 7):\n",
    "    x_coord.append(i)\n",
    "    a, b, c, d = gauss_function(i)\n",
    "    y_coord_train_rmse.append(a)\n",
    "    y_coord_test_rmse.append(b)\n",
    "    y_coord_train_acc.append(c)\n",
    "    y_coord_test_acc.append(d)"
   ]
  },
  {
   "cell_type": "markdown",
   "metadata": {},
   "source": [
    "### As we can see, fitting more than two gaussians on our data, seems to get bad results"
   ]
  },
  {
   "cell_type": "code",
   "execution_count": 161,
   "metadata": {},
   "outputs": [
    {
     "data": {
      "image/png": "[encoded data removed]",
      "text/plain": [
       "<Figure size 432x288 with 1 Axes>"
      ]
     },
     "metadata": {
      "needs_background": "light"
     },
     "output_type": "display_data"
    }
   ],
   "source": [
    "plt.plot(x_coord, y_coord_train_rmse, color='r', label = 'train RMSE')\n",
    "plt.plot(x_coord, y_coord_test_rmse, color='b', label = 'test RMSE')\n",
    "plt.legend(loc='best')\n",
    "plt.xlabel('m order gaussian')\n",
    "plt.ylabel('RMSE')\n",
    "plt.show()"
   ]
  },
  {
   "cell_type": "code",
   "execution_count": 162,
   "metadata": {},
   "outputs": [
    {
     "data": {
      "image/png": "[encoded data removed]",
      "text/plain": [
       "<Figure size 432x288 with 1 Axes>"
      ]
     },
     "metadata": {
      "needs_background": "light"
     },
     "output_type": "display_data"
    }
   ],
   "source": [
    "plt.plot(x_coord, y_coord_train_acc, color='r', label = 'train Acc')\n",
    "plt.plot(x_coord, y_coord_test_acc, color='b', label = 'test Acc')\n",
    "plt.legend(loc='best')\n",
    "plt.xlabel('m order polynomial')\n",
    "plt.ylabel('Accuracy')\n",
    "plt.show()"
   ]
  },
  {
   "cell_type": "markdown",
   "metadata": {},
   "source": [
    "# Bayesian Linear Regression"
   ]
  },
  {
   "cell_type": "code",
   "execution_count": null,
   "metadata": {},
   "outputs": [],
   "source": [
    "\n"
   ]
  },
  {
   "cell_type": "code",
   "execution_count": null,
   "metadata": {},
   "outputs": [],
   "source": []
  },
  {
   "cell_type": "code",
   "execution_count": null,
   "metadata": {},
   "outputs": [],
   "source": []
  }
 ],
 "metadata": {
  "kernelspec": {
   "display_name": "Python 3",
   "language": "python",
   "name": "python3"
  },
  "language_info": {
   "codemirror_mode": {
    "name": "ipython",
    "version": 3
   },
   "file_extension": ".py",
   "mimetype": "text/x-python",
   "name": "python",
   "nbconvert_exporter": "python",
   "pygments_lexer": "ipython3",
   "version": "3.5.2"
  }
 },
 "nbformat": 4,
 "nbformat_minor": 2
}
